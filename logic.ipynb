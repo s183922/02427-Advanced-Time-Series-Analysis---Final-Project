{
 "cells": [
  {
   "cell_type": "code",
   "execution_count": 155,
   "metadata": {},
   "outputs": [
    {
     "name": "stdout",
     "output_type": "stream",
     "text": [
      "P(B) = 0.500079\n",
      "P(R) = 0.500079\n",
      "P(H) = 0.751247\n",
      "P(S) = 0.248753\n",
      "P(H|R) = 1.0\n",
      "P(S|R) = 0.0\n",
      "P(H, R) = 0.500079\n",
      "P(S, R) = 0.0\n",
      "P(H, S) = 0.251168\n",
      "P(S, S) = 0.248753\n"
     ]
    }
   ],
   "source": [
    "import numpy as np\n",
    "# Odds are 3:1 that if R then H\n",
    "W = [[0,0],[0,1],[1,0],[1,1]]\n",
    "N = 100000\n",
    "X = np.random.rand(N, 2) > 0.5\n",
    "\n",
    "X[X[:, 0] == 1, 1] = np.random.rand(np.sum(X[:, 0] == 1)) < 0\n",
    "\n",
    "\n",
    "def propertion(X):\n",
    "    print(f\"P(B) = {np.sum(X[:, 0] == 1) / N}\")\n",
    "    print(f\"P(R) = {np.sum(X[:, 0] == 1) / N}\")\n",
    "\n",
    "    print(f\"P(H) = {np.sum(X[:, 1] == 0) / N}\")\n",
    "    print(f\"P(S) = {np.sum(X[:, 1] == 1) / N}\")\n",
    "\n",
    "    print(f\"P(H|R) = {np.sum(X[X[:, 0] == 1, 1] == 0) / np.sum(X[:, 0] == 1)}\")\n",
    "    print(f\"P(S|R) = {np.sum(X[X[:, 0] == 1, 1] == 1) / np.sum(X[:, 0] == 1)}\")\n",
    "\n",
    "    print(f\"P(H, R) = {np.sum((X[:, 0] == 1) & (X[:, 1] == 0)) / N}\")\n",
    "    print(f\"P(S, R) = {np.sum((X[:, 0] == 1) & (X[:, 1] == 1)) / N}\")\n",
    "    print(f\"P(H, S) = {np.sum((X[:, 0] == 0) & (X[:, 1] == 0)) / N}\")\n",
    "    print(f\"P(S, S) = {np.sum((X[:, 0] == 0) & (X[:, 1] == 1)) / N}\")\n",
    "\n",
    "\n",
    "propertion(X)"
   ]
  },
  {
   "cell_type": "code",
   "execution_count": 46,
   "metadata": {},
   "outputs": [
    {
     "data": {
      "text/plain": [
       "0.5034412955465587"
      ]
     },
     "execution_count": 46,
     "metadata": {},
     "output_type": "execute_result"
    }
   ],
   "source": []
  }
 ],
 "metadata": {
  "kernelspec": {
   "display_name": "DynSys",
   "language": "python",
   "name": "python3"
  },
  "language_info": {
   "codemirror_mode": {
    "name": "ipython",
    "version": 3
   },
   "file_extension": ".py",
   "mimetype": "text/x-python",
   "name": "python",
   "nbconvert_exporter": "python",
   "pygments_lexer": "ipython3",
   "version": "3.8.10"
  }
 },
 "nbformat": 4,
 "nbformat_minor": 2
}
